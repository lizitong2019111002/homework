{
 "cells": [
  {
   "cell_type": "markdown",
   "metadata": {},
   "source": [
    "# Introduction to Data Science（HW1）"
   ]
  },
  {
   "cell_type": "code",
   "execution_count": 1,
   "metadata": {},
   "outputs": [],
   "source": [
    "import findspark"
   ]
  },
  {
   "cell_type": "code",
   "execution_count": 2,
   "metadata": {},
   "outputs": [],
   "source": [
    "findspark.init()"
   ]
  },
  {
   "cell_type": "code",
   "execution_count": 1,
   "metadata": {},
   "outputs": [],
   "source": [
    "import os\n",
    "os.environ[\"JAVA_HOME\"] = \"C:/Java/jdk1.8.0_301\""
   ]
  },
  {
   "cell_type": "code",
   "execution_count": 3,
   "metadata": {
    "id": "xgQaRx6rSaf9"
   },
   "outputs": [],
   "source": [
    "# Let's import the libraries we will need\n",
    "import pandas as pd\n",
    "import numpy as np\n",
    "import matplotlib.pyplot as plt\n",
    "%matplotlib inline\n",
    "\n",
    "import pyspark\n",
    "from pyspark.sql import *\n",
    "from pyspark.sql.functions import *\n",
    "from pyspark import SparkContext, SparkConf"
   ]
  },
  {
   "cell_type": "markdown",
   "metadata": {
    "id": "uUD5XpD_SagA"
   },
   "source": [
    "Let's initialize the Spark context.\n"
   ]
  },
  {
   "cell_type": "code",
   "execution_count": 4,
   "metadata": {
    "id": "7ft3VivrSagB"
   },
   "outputs": [],
   "source": [
    "# create the session\n",
    "conf = SparkConf().set(\"spark.ui.port\", \"4050\")\n",
    "\n",
    "# create the context\n",
    "sc = pyspark.SparkContext(conf=conf)\n",
    "spark = SparkSession.builder.getOrCreate()"
   ]
  },
  {
   "cell_type": "code",
   "execution_count": 5,
   "metadata": {},
   "outputs": [],
   "source": [
    "import pyspark\n",
    "from pyspark import SparkContext as sc\n",
    "from pyspark import SparkConf\n",
    "conf=SparkConf().setAppName(\"miniProject\").setMaster(\"local[*]\")\n",
    "sc=SparkContext.getOrCreate(conf)\n",
    "spark = SparkSession.builder.getOrCreate()"
   ]
  },
  {
   "cell_type": "markdown",
   "metadata": {
    "id": "-n20ixkgSagD"
   },
   "source": [
    "You can easily check the current version and get the link of the web interface. In the Spark UI, you can monitor the progress of your job and debug the performance bottlenecks (if your Colab is running with a **local runtime**)."
   ]
  },
  {
   "cell_type": "code",
   "execution_count": 4,
   "metadata": {},
   "outputs": [
    {
     "data": {
      "text/html": [
       "\n",
       "            <div>\n",
       "                <p><b>SparkSession - in-memory</b></p>\n",
       "                \n",
       "        <div>\n",
       "            <p><b>SparkContext</b></p>\n",
       "\n",
       "            <p><a href=\"http://DESKTOP-CADPD5S:4050\">Spark UI</a></p>\n",
       "\n",
       "            <dl>\n",
       "              <dt>Version</dt>\n",
       "                <dd><code>v3.1.2</code></dd>\n",
       "              <dt>Master</dt>\n",
       "                <dd><code>local[*]</code></dd>\n",
       "              <dt>AppName</dt>\n",
       "                <dd><code>pyspark-shell</code></dd>\n",
       "            </dl>\n",
       "        </div>\n",
       "        \n",
       "            </div>\n",
       "        "
      ],
      "text/plain": [
       "<pyspark.sql.session.SparkSession at 0x194bc57b0f0>"
      ]
     },
     "execution_count": 4,
     "metadata": {},
     "output_type": "execute_result"
    }
   ],
   "source": [
    "spark"
   ]
  },
  {
   "cell_type": "markdown",
   "metadata": {},
   "source": [
    "# Qustion 1：Know More about Vietnam War"
   ]
  },
  {
   "cell_type": "markdown",
   "metadata": {
    "id": "skjUv84VSagJ"
   },
   "source": [
    "**Dataset Information:**\n",
    "\n",
    "THOR is a painstakingly cultivated database of historic aerial bombings from World War I through Vietnam. THOR has already proven useful in finding unexploded ordnance in Southeast Asia and improving Air Force combat tactics:\n",
    "https://www.kaggle.com/usaf/vietnam-war-bombing-operations"
   ]
  },
  {
   "cell_type": "markdown",
   "metadata": {
    "id": "VSWoULeWSagJ"
   },
   "source": [
    "Load the datasets:"
   ]
  },
  {
   "cell_type": "code",
   "execution_count": 6,
   "metadata": {
    "id": "XLyVPuLXSagK"
   },
   "outputs": [],
   "source": [
    "Bombing_Operations = spark.read.json(\"Bombing_Operations.json.gz\")\n",
    "Aircraft_Glossary = spark.read.json(\"Aircraft_Glossary.json.gz\")"
   ]
  },
  {
   "cell_type": "markdown",
   "metadata": {},
   "source": [
    "**1.   Select 3 sample (random choose) of Bombing_Operations and save the result as TempTable**\n",
    "\n",
    "**(10 point)**"
   ]
  },
  {
   "cell_type": "code",
   "execution_count": 7,
   "metadata": {},
   "outputs": [
    {
     "name": "stdout",
     "output_type": "stream",
     "text": [
      "+--------+--------------------+-----------+--------------------+-----------+---------------+-------------+------------+--------------+-------------------+\n",
      "|AirCraft| ContryFlyingMission|MissionDate|  OperationSupported|PeriodOfDay|TakeoffLocation|TargetCountry|TimeOnTarget|    WeaponType|WeaponsLoadedWeight|\n",
      "+--------+--------------------+-----------+--------------------+-----------+---------------+-------------+------------+--------------+-------------------+\n",
      "|   F-100|UNITED STATES OF ...| 1968-10-28|IN COUNTRY - COMB...|          N|      PHAN RANG|SOUTH VIETNAM|      2002.0|750LB GP M-117|                 -1|\n",
      "|     F-4|UNITED STATES OF ...| 1973-07-26|                null|          N|      NAM PHONG|     THAILAND|      1800.0|          null|                  0|\n",
      "|     A-4|UNITED STATES OF ...| 1966-11-21|          IN COUNTRY|          D|        CHU LAI|SOUTH VIETNAM|       230.0|       LAU-10A|                 -1|\n",
      "+--------+--------------------+-----------+--------------------+-----------+---------------+-------------+------------+--------------+-------------------+\n",
      "\n"
     ]
    }
   ],
   "source": [
    "# YOUR CODE HERE\n",
    "Bombing_Operations_Sample = spark.createDataFrame(Bombing_Operations.rdd.takeSample(False,3),schema = Bombing_Operations.schema)\n",
    "Bombing_Operations_Sample.registerTempTable(\"Bombing_Operations_Sample\")\n",
    "spark.sql(\"select * from Bombing_Operations_Sample\").show()"
   ]
  },
  {
   "cell_type": "markdown",
   "metadata": {},
   "source": [
    "\n",
    "**2. Count the top 5 countries considered to be the most Targetcountry in the Bombing_Operations data set, and count their total TimeOnTarget**\n",
    "\n",
    "**(10 point)**"
   ]
  },
  {
   "cell_type": "code",
   "execution_count": 8,
   "metadata": {},
   "outputs": [
    {
     "name": "stdout",
     "output_type": "stream",
     "text": [
      "+-------------+-----------------+\n",
      "|TargetCountry|sum(TimeOnTarget)|\n",
      "+-------------+-----------------+\n",
      "|SOUTH VIETNAM|    1.778017197E9|\n",
      "|         LAOS|    1.162924419E9|\n",
      "|NORTH VIETNAM|     6.05604794E8|\n",
      "|     CAMBODIA|     1.69886781E8|\n",
      "|     THAILAND|      4.5229813E7|\n",
      "+-------------+-----------------+\n",
      "only showing top 5 rows\n",
      "\n"
     ]
    }
   ],
   "source": [
    "# YOUR CODE HERE\n",
    "\n",
    "target_time_sum = Bombing_Operations.\\\n",
    "    filter(Bombing_Operations.TargetCountry != \"UNKNOWN\").\\\n",
    "    groupBy(\"TargetCountry\").\\\n",
    "    sum(\"TimeOnTarget\").\\\n",
    "    orderBy('sum(TimeOnTarget)', ascending=False)\n",
    "\n",
    "target_time_sum.show(5)\n",
    "target_time_sum_top5 = target_time_sum.head(5)"
   ]
  },
  {
   "cell_type": "markdown",
   "metadata": {},
   "source": [
    "**3. draw a bar graph of the number of different Aircraft types（y）in different TargetCountry （x）(legend: Aircraft type)**\n",
    "\n",
    "**（20 point）**"
   ]
  },
  {
   "cell_type": "code",
   "execution_count": 9,
   "metadata": {},
   "outputs": [
    {
     "data": {
      "text/plain": [
       "Text(0, 0.5, 'AirCraft Type Count')"
      ]
     },
     "execution_count": 9,
     "metadata": {},
     "output_type": "execute_result"
    },
    {
     "data": {
      "image/png": "[encoded data removed]",
      "text/plain": [
       "<Figure size 504x504 with 1 Axes>"
      ]
     },
     "metadata": {
      "needs_background": "light"
     },
     "output_type": "display_data"
    }
   ],
   "source": [
    "# YOUR CODE HERE\n",
    "\n",
    "Bombing_Operations_Diff_AT = Bombing_Operations.select([\"AirCraft\", \"TargetCountry\"]).distinct()\n",
    "Bombing_Operations_Diff_AT = Bombing_Operations_Diff_AT.join(Aircraft_Glossary, on='AirCraft', how='left')\n",
    "Bombing_Operations_Diff_AT = Bombing_Operations_Diff_AT.select([\"AirCraftType\", \"TargetCountry\"]).distinct()\n",
    "PD_Bombing_Operations_Diff_AT = Bombing_Operations_Diff_AT.groupBy(\"TargetCountry\").count().toPandas()\n",
    "plt.figure(figsize=(7,7))\n",
    "plt.bar(PD_Bombing_Operations_Diff_AT.TargetCountry, height=PD_Bombing_Operations_Diff_AT[\"count\"], width=0.5)\n",
    "plt.xticks(rotation=60)\n",
    "plt.xlabel(\"TargetCountry\")\n",
    "plt.ylabel(\"AirCraft Type Count\")"
   ]
  },
  {
   "cell_type": "code",
   "execution_count": 10,
   "metadata": {},
   "outputs": [
    {
     "data": {
      "text/plain": [
       "Text(0, 0.5, 'AirCraft Type Count')"
      ]
     },
     "execution_count": 10,
     "metadata": {},
     "output_type": "execute_result"
    },
    {
     "data": {
      "image/png": "[encoded data removed]",
      "text/plain": [
       "<Figure size 504x504 with 1 Axes>"
      ]
     },
     "metadata": {
      "needs_background": "light"
     },
     "output_type": "display_data"
    }
   ],
   "source": [
    "Bombing_Operations_Diff_AT = Bombing_Operations.select([\"AirCraft\", \"TargetCountry\"]).distinct()\n",
    "PD_Bombing_Operations_Diff_AT = Bombing_Operations_Diff_AT.groupBy(\"TargetCountry\").count().toPandas()\n",
    "plt.figure(figsize=(7,7))\n",
    "plt.bar(PD_Bombing_Operations_Diff_AT.TargetCountry, height=PD_Bombing_Operations_Diff_AT[\"count\"], width=0.5)\n",
    "plt.xticks(rotation=60)\n",
    "plt.xlabel(\"TargetCountry\")\n",
    "plt.ylabel(\"AirCraft Type Count\")"
   ]
  },
  {
   "cell_type": "markdown",
   "metadata": {},
   "source": [
    "\n",
    "**4. Use the \\<Spark SQL\\> to select the weapon whose Aircraft type is'F-105' in Bombing_Operations data**\n",
    "\n",
    "**(20 point)**"
   ]
  },
  {
   "cell_type": "code",
   "execution_count": 11,
   "metadata": {},
   "outputs": [
    {
     "name": "stdout",
     "output_type": "stream",
     "text": [
      "+--------------------+\n",
      "|          WeaponType|\n",
      "+--------------------+\n",
      "|MK 82 GP BOMB (50...|\n",
      "|MK 82 GP BOMB (50...|\n",
      "|MK 82 GP BOMB (50...|\n",
      "|MK 82 GP BOMB (50...|\n",
      "|    AGM-45A SHRIKE-3|\n",
      "|    AGM-45A SHRIKE-3|\n",
      "|MK 82 GP BOMB (50...|\n",
      "|MK 82 GP BOMB (50...|\n",
      "|    AGM-45A SHRIKE-3|\n",
      "|    AGM-45A SHRIKE-3|\n",
      "|AGM-72 STD AR MISSLE|\n",
      "|AGM-72 STD AR MISSLE|\n",
      "|MK 82 GP BOMB (50...|\n",
      "|MK 82 GP BOMB (50...|\n",
      "|AGM-72 STD AR MISSLE|\n",
      "| MK84 GP BOMB (2000)|\n",
      "|AGM-72 STD AR MISSLE|\n",
      "|AGM-72 STD AR MISSLE|\n",
      "|    AGM-45A SHRIKE-3|\n",
      "|MK 82 GP BOMB (50...|\n",
      "+--------------------+\n",
      "only showing top 20 rows\n",
      "\n"
     ]
    }
   ],
   "source": [
    "# YOUR CODE HERE\n",
    "Bombing_Operations_WT = Bombing_Operations.filter(Bombing_Operations.AirCraft=='F-105').select(\"WeaponType\").filter(~(col(\"WeaponType\").isNull()))\n",
    "Bombing_Operations_WT.show()\n"
   ]
  },
  {
   "cell_type": "markdown",
   "metadata": {},
   "source": [
    "**5. Count aircraft  from January to December where Take off Location as'TAN SON NHUT' in Bombing_Operations data, and plot the result.**\n",
    "\n",
    "**（20 point）**"
   ]
  },
  {
   "cell_type": "code",
   "execution_count": 12,
   "metadata": {
    "colab": {
     "base_uri": "https://localhost:8080/"
    },
    "id": "jrJpiG5ISagQ",
    "outputId": "6115ce55-17eb-49cc-f0fe-ff072a955454"
   },
   "outputs": [
    {
     "data": {
      "image/png": "[encoded data removed]",
      "text/plain": [
       "<Figure size 432x288 with 1 Axes>"
      ]
     },
     "metadata": {
      "needs_background": "light"
     },
     "output_type": "display_data"
    }
   ],
   "source": [
    "# YOUR CODE HERE\n",
    "\n",
    "from pyspark.sql.functions import udf\n",
    "from pyspark.sql.types import StringType\n",
    "\n",
    "@udf(returnType=StringType())\n",
    "def replace_str(string):\n",
    "    string = str(string)\n",
    "    return string[5:7] if len(string) == 10 else \"00\"\n",
    "\n",
    "Bombing_Operations_TSN = Bombing_Operations.filter(Bombing_Operations.TakeoffLocation == \"TAN SON NHUT\")\n",
    "Bombing_Operations_TSN = Bombing_Operations_TSN.\\\n",
    "    withColumn(\"MONTH\", replace_str(Bombing_Operations_TSN[\"MissionDate\"])).select(\"MONTH\")\n",
    "# Bombing_Operations_TSN.show()\n",
    "Bombing_Operations_TSN = Bombing_Operations_TSN.groupBy(\"MONTH\").count()\n",
    "pd_Bombing_Operations_TSN = Bombing_Operations_TSN.toPandas()\n",
    "pd_Bombing_Operations_TSN = pd_Bombing_Operations_TSN.sort_values(\"MONTH\")\n",
    "plt.plot(pd_Bombing_Operations_TSN.MONTH, pd_Bombing_Operations_TSN[\"count\"])\n",
    "plt.xlabel(\"MONTH\")\n",
    "plt.ylabel(\"COUNT\")\n",
    "plt.show()"
   ]
  },
  {
   "cell_type": "markdown",
   "metadata": {},
   "source": [
    "**6. Please select the aircraft whose WeaponType is None and groupby each Target country**\n",
    "\n",
    "**（10 point）**"
   ]
  },
  {
   "cell_type": "code",
   "execution_count": 25,
   "metadata": {},
   "outputs": [
    {
     "name": "stdout",
     "output_type": "stream",
     "text": [
      "+--------------+--------------------+\n",
      "| TargetCountry|        AirCraftList|\n",
      "+--------------+--------------------+\n",
      "|      CAMBODIA|[EC-47, AU-24, AC...|\n",
      "|WESTPAC WATERS|[EC-121, A-6, A-4...|\n",
      "| SOUTH VIETNAM|[EC-47, A-37, EC-...|\n",
      "|       UNKNOWN|[A-4, F-4, F-105,...|\n",
      "|   PHILLIPINES|              [RF-8]|\n",
      "|      THAILAND|[CH-53, CH-53, F-...|\n",
      "| NORTH VIETNAM|[A-7, A-6, A-7, A...|\n",
      "|          LAOS|[RF-4, A-4, F-4, ...|\n",
      "+--------------+--------------------+\n",
      "\n"
     ]
    }
   ],
   "source": [
    "# YOUR CODE HERE\n",
    "Bombing_Operations_WeaponType_Null = Bombing_Operations.filter(col(\"WeaponType\").isNull()).select([\"AirCraft\", \"TargetCountry\"])\n",
    "\n",
    "# Bombing_Operations_WeaponType_Null.show()\n",
    "Bombing_Operations_WeaponType_Null.groupby(\"TargetCountry\").agg(collect_list('AirCraft').alias('AirCraftList')).show()"
   ]
  },
  {
   "cell_type": "markdown",
   "metadata": {},
   "source": [
    "# Question 2：Instacart Market Basket Analysis（10 point）"
   ]
  },
  {
   "cell_type": "markdown",
   "metadata": {
    "colab": {
     "base_uri": "https://localhost:8080/"
    },
    "id": "3slo-sXOSagZ",
    "outputId": "04c05efb-42da-4762-91bf-13a1e3282325"
   },
   "source": [
    "The dataset for this competition is a relational set of files describing customers' orders over time. The goal of the competition is to predict which products will be in a user's next order. The dataset is anonymized and contains a sample of over 3 million grocery orders from more than 200,000 Instacart users. For each user, we provide between 4 and 100 of their orders, with the sequence of products purchased in each order. We also provide the week and hour of day the order was placed, and a relative measure of time between orders. For more information, see the blog post accompanying its public release.\n",
    "\n",
    "https://www.kaggle.com/c/instacart-market-basket-analysis/data"
   ]
  },
  {
   "cell_type": "markdown",
   "metadata": {},
   "source": [
    "**YOUR TASK**\n",
    "\n",
    "Use the Spark Dataframe API to join 'products' and 'orders', so that you will be able to see the product names in each transaction (and not only their ids). Then, group by the orders by 'order_id' to obtain one row per basket (i.e., set of products purchased together by one customer)."
   ]
  },
  {
   "cell_type": "code",
   "execution_count": 13,
   "metadata": {},
   "outputs": [],
   "source": [
    "products = spark.read.csv('products.csv', header=True, inferSchema=True)\n",
    "orders = spark.read.csv('order_products__train.csv', header=True, inferSchema=True)"
   ]
  },
  {
   "cell_type": "code",
   "execution_count": 14,
   "metadata": {
    "colab": {
     "base_uri": "https://localhost:8080/",
     "height": 204
    },
    "id": "4nVJdPLDSagb",
    "outputId": "dc5ea217-a966-4d3f-bbb0-fc80bf5d4daa"
   },
   "outputs": [
    {
     "name": "stdout",
     "output_type": "stream",
     "text": [
      "+--------+--------------------+\n",
      "|order_id|    product_nameList|\n",
      "+--------+--------------------+\n",
      "|    1342|[Bag of Organic B...|\n",
      "|    1591|[Cracked Wheat, O...|\n",
      "|    4519|[Beet Apple Carro...|\n",
      "|    4935|             [Vodka]|\n",
      "|    6357|[Fresh Mozzarella...|\n",
      "|   10362|[Crinkle Cut Fren...|\n",
      "|   19204|[Lemon Lime Thirs...|\n",
      "|   29601|[Toasted Coconut ...|\n",
      "|   31035|[Bag of Organic B...|\n",
      "|   40011|[Sea Salt Macadam...|\n",
      "|   46266|[Organic Uncured ...|\n",
      "|   51607|[Major Dickason's...|\n",
      "|   58797|[Bag of Organic B...|\n",
      "|   61793|[Raspberries, Nat...|\n",
      "|   67089|[Banana, Organic ...|\n",
      "|   70863|[Bathroom Tissue,...|\n",
      "|   88674|[Unsweetened Almo...|\n",
      "|   91937|[No. 485 Gin, Tra...|\n",
      "|   92317|[Banana, Indian M...|\n",
      "|   99621|[Organic Basil, F...|\n",
      "+--------+--------------------+\n",
      "only showing top 20 rows\n",
      "\n"
     ]
    }
   ],
   "source": [
    "# YOUR CODE HERE\n",
    "order_with_prodcutid = orders.join(products, on='product_id', how='left')\n",
    "product_list_per_order = order_with_prodcutid.groupby(\"order_id\").agg(collect_list('product_name').alias('product_nameList'))\n",
    "product_list_per_order.show()"
   ]
  },
  {
   "cell_type": "code",
   "execution_count": null,
   "metadata": {},
   "outputs": [],
   "source": []
  }
 ],
 "metadata": {
  "colab": {
   "collapsed_sections": [],
   "machine_shape": "hm",
   "name": "CS246 - Colab 0 (Spark Tutorial).ipynb",
   "provenance": [],
   "toc_visible": true
  },
  "kernelspec": {
   "display_name": "Python 3",
   "language": "python",
   "name": "python3"
  },
  "language_info": {
   "codemirror_mode": {
    "name": "ipython",
    "version": 3
   },
   "file_extension": ".py",
   "mimetype": "text/x-python",
   "name": "python",
   "nbconvert_exporter": "python",
   "pygments_lexer": "ipython3",
   "version": "3.8.8"
  },
  "toc": {
   "base_numbering": 1,
   "nav_menu": {},
   "number_sections": true,
   "sideBar": true,
   "skip_h1_title": false,
   "title_cell": "Table of Contents",
   "title_sidebar": "Contents",
   "toc_cell": false,
   "toc_position": {},
   "toc_section_display": true,
   "toc_window_display": false
  },
  "varInspector": {
   "cols": {
    "lenName": 16,
    "lenType": 16,
    "lenVar": 40
   },
   "kernels_config": {
    "python": {
     "delete_cmd_postfix": "",
     "delete_cmd_prefix": "del ",
     "library": "var_list.py",
     "varRefreshCmd": "print(var_dic_list())"
    },
    "r": {
     "delete_cmd_postfix": ") ",
     "delete_cmd_prefix": "rm(",
     "library": "var_list.r",
     "varRefreshCmd": "cat(var_dic_list()) "
    }
   },
   "types_to_exclude": [
    "module",
    "function",
    "builtin_function_or_method",
    "instance",
    "_Feature"
   ],
   "window_display": false
  }
 },
 "nbformat": 4,
 "nbformat_minor": 1
}
